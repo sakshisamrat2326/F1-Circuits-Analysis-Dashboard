{
 "cells": [
  {
   "cell_type": "markdown",
   "id": "d7d8ee92-f125-4efa-b8cb-031dfa473168",
   "metadata": {},
   "source": [
    "\n",
    "\n",
    "<h1 style='color:blue; text-align:center;'>Formula 1 Circuits – Data Analysis</h1>\n",
    "<h3 style='color:gray; text-align:center;'>Dataset Preview</h3>\n"
   ]
  },
  {
   "cell_type": "code",
   "execution_count": 1,
   "id": "0408d3aa-2e21-4a38-8dd6-95b24ec9fca6",
   "metadata": {},
   "outputs": [],
   "source": [
    "import pandas as pd"
   ]
  },
  {
   "cell_type": "markdown",
   "id": "6c5ce504-3f9c-4982-b505-c5440a835778",
   "metadata": {},
   "source": [
    "# --- Step 1: Load and Inspect the Data ---"
   ]
  },
  {
   "cell_type": "code",
   "execution_count": 2,
   "id": "db5dba85-0f8e-40ca-8698-d26d42dc080e",
   "metadata": {},
   "outputs": [
    {
     "data": {
      "text/html": [
       "<div>\n",
       "<style scoped>\n",
       "    .dataframe tbody tr th:only-of-type {\n",
       "        vertical-align: middle;\n",
       "    }\n",
       "\n",
       "    .dataframe tbody tr th {\n",
       "        vertical-align: top;\n",
       "    }\n",
       "\n",
       "    .dataframe thead th {\n",
       "        text-align: right;\n",
       "    }\n",
       "</style>\n",
       "<table border=\"1\" class=\"dataframe\">\n",
       "  <thead>\n",
       "    <tr style=\"text-align: right;\">\n",
       "      <th></th>\n",
       "      <th>circuitId</th>\n",
       "      <th>circuitRef</th>\n",
       "      <th>name</th>\n",
       "      <th>location</th>\n",
       "      <th>country</th>\n",
       "      <th>lat</th>\n",
       "      <th>lng</th>\n",
       "      <th>alt</th>\n",
       "      <th>url</th>\n",
       "    </tr>\n",
       "  </thead>\n",
       "  <tbody>\n",
       "    <tr>\n",
       "      <th>0</th>\n",
       "      <td>1</td>\n",
       "      <td>albert_park</td>\n",
       "      <td>Albert Park Grand Prix Circuit</td>\n",
       "      <td>Melbourne</td>\n",
       "      <td>Australia</td>\n",
       "      <td>-37.84970</td>\n",
       "      <td>144.96800</td>\n",
       "      <td>10</td>\n",
       "      <td>http://en.wikipedia.org/wiki/Melbourne_Grand_P...</td>\n",
       "    </tr>\n",
       "    <tr>\n",
       "      <th>1</th>\n",
       "      <td>2</td>\n",
       "      <td>sepang</td>\n",
       "      <td>Sepang International Circuit</td>\n",
       "      <td>Kuala Lumpur</td>\n",
       "      <td>Malaysia</td>\n",
       "      <td>2.76083</td>\n",
       "      <td>101.73800</td>\n",
       "      <td>18</td>\n",
       "      <td>http://en.wikipedia.org/wiki/Sepang_Internatio...</td>\n",
       "    </tr>\n",
       "    <tr>\n",
       "      <th>2</th>\n",
       "      <td>3</td>\n",
       "      <td>bahrain</td>\n",
       "      <td>Bahrain International Circuit</td>\n",
       "      <td>Sakhir</td>\n",
       "      <td>Bahrain</td>\n",
       "      <td>26.03250</td>\n",
       "      <td>50.51060</td>\n",
       "      <td>7</td>\n",
       "      <td>http://en.wikipedia.org/wiki/Bahrain_Internati...</td>\n",
       "    </tr>\n",
       "    <tr>\n",
       "      <th>3</th>\n",
       "      <td>4</td>\n",
       "      <td>catalunya</td>\n",
       "      <td>Circuit de Barcelona-Catalunya</td>\n",
       "      <td>Montmeló</td>\n",
       "      <td>Spain</td>\n",
       "      <td>41.57000</td>\n",
       "      <td>2.26111</td>\n",
       "      <td>109</td>\n",
       "      <td>http://en.wikipedia.org/wiki/Circuit_de_Barcel...</td>\n",
       "    </tr>\n",
       "    <tr>\n",
       "      <th>4</th>\n",
       "      <td>5</td>\n",
       "      <td>istanbul</td>\n",
       "      <td>Istanbul Park</td>\n",
       "      <td>Istanbul</td>\n",
       "      <td>Turkey</td>\n",
       "      <td>40.95170</td>\n",
       "      <td>29.40500</td>\n",
       "      <td>130</td>\n",
       "      <td>http://en.wikipedia.org/wiki/Istanbul_Park</td>\n",
       "    </tr>\n",
       "    <tr>\n",
       "      <th>...</th>\n",
       "      <td>...</td>\n",
       "      <td>...</td>\n",
       "      <td>...</td>\n",
       "      <td>...</td>\n",
       "      <td>...</td>\n",
       "      <td>...</td>\n",
       "      <td>...</td>\n",
       "      <td>...</td>\n",
       "      <td>...</td>\n",
       "    </tr>\n",
       "    <tr>\n",
       "      <th>72</th>\n",
       "      <td>75</td>\n",
       "      <td>portimao</td>\n",
       "      <td>Autódromo Internacional do Algarve</td>\n",
       "      <td>Portimão</td>\n",
       "      <td>Portugal</td>\n",
       "      <td>37.22700</td>\n",
       "      <td>-8.62670</td>\n",
       "      <td>108</td>\n",
       "      <td>http://en.wikipedia.org/wiki/Algarve_Internati...</td>\n",
       "    </tr>\n",
       "    <tr>\n",
       "      <th>73</th>\n",
       "      <td>76</td>\n",
       "      <td>mugello</td>\n",
       "      <td>Autodromo Internazionale del Mugello</td>\n",
       "      <td>Mugello</td>\n",
       "      <td>Italy</td>\n",
       "      <td>43.99750</td>\n",
       "      <td>11.37190</td>\n",
       "      <td>255</td>\n",
       "      <td>http://en.wikipedia.org/wiki/Mugello_Circuit</td>\n",
       "    </tr>\n",
       "    <tr>\n",
       "      <th>74</th>\n",
       "      <td>77</td>\n",
       "      <td>jeddah</td>\n",
       "      <td>Jeddah Corniche Circuit</td>\n",
       "      <td>Jeddah</td>\n",
       "      <td>Saudi Arabia</td>\n",
       "      <td>21.63190</td>\n",
       "      <td>39.10440</td>\n",
       "      <td>15</td>\n",
       "      <td>http://en.wikipedia.org/wiki/Jeddah_Street_Cir...</td>\n",
       "    </tr>\n",
       "    <tr>\n",
       "      <th>75</th>\n",
       "      <td>78</td>\n",
       "      <td>losail</td>\n",
       "      <td>Losail International Circuit</td>\n",
       "      <td>Al Daayen</td>\n",
       "      <td>Qatar</td>\n",
       "      <td>25.49000</td>\n",
       "      <td>51.45420</td>\n",
       "      <td>12</td>\n",
       "      <td>http://en.wikipedia.org/wiki/Losail_Internatio...</td>\n",
       "    </tr>\n",
       "    <tr>\n",
       "      <th>76</th>\n",
       "      <td>79</td>\n",
       "      <td>miami</td>\n",
       "      <td>Miami International Autodrome</td>\n",
       "      <td>Miami</td>\n",
       "      <td>USA</td>\n",
       "      <td>25.95810</td>\n",
       "      <td>-80.23890</td>\n",
       "      <td>0</td>\n",
       "      <td>http://en.wikipedia.org/wiki/Miami_Internation...</td>\n",
       "    </tr>\n",
       "  </tbody>\n",
       "</table>\n",
       "<p>77 rows × 9 columns</p>\n",
       "</div>"
      ],
      "text/plain": [
       "    circuitId   circuitRef                                  name  \\\n",
       "0           1  albert_park        Albert Park Grand Prix Circuit   \n",
       "1           2       sepang          Sepang International Circuit   \n",
       "2           3      bahrain         Bahrain International Circuit   \n",
       "3           4    catalunya        Circuit de Barcelona-Catalunya   \n",
       "4           5     istanbul                         Istanbul Park   \n",
       "..        ...          ...                                   ...   \n",
       "72         75     portimao    Autódromo Internacional do Algarve   \n",
       "73         76      mugello  Autodromo Internazionale del Mugello   \n",
       "74         77       jeddah               Jeddah Corniche Circuit   \n",
       "75         78       losail          Losail International Circuit   \n",
       "76         79        miami         Miami International Autodrome   \n",
       "\n",
       "        location       country       lat        lng  alt  \\\n",
       "0      Melbourne     Australia -37.84970  144.96800   10   \n",
       "1   Kuala Lumpur      Malaysia   2.76083  101.73800   18   \n",
       "2         Sakhir       Bahrain  26.03250   50.51060    7   \n",
       "3       Montmeló         Spain  41.57000    2.26111  109   \n",
       "4       Istanbul        Turkey  40.95170   29.40500  130   \n",
       "..           ...           ...       ...        ...  ...   \n",
       "72      Portimão      Portugal  37.22700   -8.62670  108   \n",
       "73       Mugello         Italy  43.99750   11.37190  255   \n",
       "74        Jeddah  Saudi Arabia  21.63190   39.10440   15   \n",
       "75     Al Daayen         Qatar  25.49000   51.45420   12   \n",
       "76         Miami           USA  25.95810  -80.23890    0   \n",
       "\n",
       "                                                  url  \n",
       "0   http://en.wikipedia.org/wiki/Melbourne_Grand_P...  \n",
       "1   http://en.wikipedia.org/wiki/Sepang_Internatio...  \n",
       "2   http://en.wikipedia.org/wiki/Bahrain_Internati...  \n",
       "3   http://en.wikipedia.org/wiki/Circuit_de_Barcel...  \n",
       "4          http://en.wikipedia.org/wiki/Istanbul_Park  \n",
       "..                                                ...  \n",
       "72  http://en.wikipedia.org/wiki/Algarve_Internati...  \n",
       "73       http://en.wikipedia.org/wiki/Mugello_Circuit  \n",
       "74  http://en.wikipedia.org/wiki/Jeddah_Street_Cir...  \n",
       "75  http://en.wikipedia.org/wiki/Losail_Internatio...  \n",
       "76  http://en.wikipedia.org/wiki/Miami_Internation...  \n",
       "\n",
       "[77 rows x 9 columns]"
      ]
     },
     "execution_count": 2,
     "metadata": {},
     "output_type": "execute_result"
    }
   ],
   "source": [
    "df=pd.read_csv(\"circuits.csv\")\n",
    "df"
   ]
  },
  {
   "cell_type": "code",
   "execution_count": null,
   "id": "3711ce4f-8933-4e08-bb99-51395b907364",
   "metadata": {},
   "outputs": [],
   "source": []
  },
  {
   "cell_type": "markdown",
   "id": "133831a8-8ce2-4c18-939f-462dcc797cc1",
   "metadata": {},
   "source": [
    "# Display the first 5 rows to get a feel for the data"
   ]
  },
  {
   "cell_type": "code",
   "execution_count": 10,
   "id": "ab16cf6d-e476-4231-a320-0ec17d63807f",
   "metadata": {},
   "outputs": [
    {
     "name": "stdout",
     "output_type": "stream",
     "text": [
      "--First 5 rows of the Data--\n",
      "   circuitId   circuitRef                            name      location  \\\n",
      "0          1  albert_park  Albert Park Grand Prix Circuit     Melbourne   \n",
      "1          2       sepang    Sepang International Circuit  Kuala Lumpur   \n",
      "2          3      bahrain   Bahrain International Circuit        Sakhir   \n",
      "3          4    catalunya  Circuit de Barcelona-Catalunya      Montmeló   \n",
      "4          5     istanbul                   Istanbul Park      Istanbul   \n",
      "\n",
      "     country       lat        lng  alt  \\\n",
      "0  Australia -37.84970  144.96800   10   \n",
      "1   Malaysia   2.76083  101.73800   18   \n",
      "2    Bahrain  26.03250   50.51060    7   \n",
      "3      Spain  41.57000    2.26111  109   \n",
      "4     Turkey  40.95170   29.40500  130   \n",
      "\n",
      "                                                 url  \n",
      "0  http://en.wikipedia.org/wiki/Melbourne_Grand_P...  \n",
      "1  http://en.wikipedia.org/wiki/Sepang_Internatio...  \n",
      "2  http://en.wikipedia.org/wiki/Bahrain_Internati...  \n",
      "3  http://en.wikipedia.org/wiki/Circuit_de_Barcel...  \n",
      "4         http://en.wikipedia.org/wiki/Istanbul_Park  \n",
      "\n",
      "========================================\n",
      "\n"
     ]
    }
   ],
   "source": [
    "\n",
    "print(\"--First 5 rows of the Data--\")\n",
    "print (df.head())\n",
    "print(\"\\n\" + \"=\"*40 + \"\\n\")\n",
    "\n"
   ]
  },
  {
   "cell_type": "code",
   "execution_count": 4,
   "id": "ff5104d5-767e-4167-b5d6-e5f3a4621aac",
   "metadata": {},
   "outputs": [
    {
     "data": {
      "text/html": [
       "<div>\n",
       "<style scoped>\n",
       "    .dataframe tbody tr th:only-of-type {\n",
       "        vertical-align: middle;\n",
       "    }\n",
       "\n",
       "    .dataframe tbody tr th {\n",
       "        vertical-align: top;\n",
       "    }\n",
       "\n",
       "    .dataframe thead th {\n",
       "        text-align: right;\n",
       "    }\n",
       "</style>\n",
       "<table border=\"1\" class=\"dataframe\">\n",
       "  <thead>\n",
       "    <tr style=\"text-align: right;\">\n",
       "      <th></th>\n",
       "      <th>circuitId</th>\n",
       "      <th>circuitRef</th>\n",
       "      <th>name</th>\n",
       "      <th>location</th>\n",
       "      <th>country</th>\n",
       "      <th>lat</th>\n",
       "      <th>lng</th>\n",
       "      <th>alt</th>\n",
       "      <th>url</th>\n",
       "    </tr>\n",
       "  </thead>\n",
       "  <tbody>\n",
       "    <tr>\n",
       "      <th>72</th>\n",
       "      <td>75</td>\n",
       "      <td>portimao</td>\n",
       "      <td>Autódromo Internacional do Algarve</td>\n",
       "      <td>Portimão</td>\n",
       "      <td>Portugal</td>\n",
       "      <td>37.2270</td>\n",
       "      <td>-8.6267</td>\n",
       "      <td>108</td>\n",
       "      <td>http://en.wikipedia.org/wiki/Algarve_Internati...</td>\n",
       "    </tr>\n",
       "    <tr>\n",
       "      <th>73</th>\n",
       "      <td>76</td>\n",
       "      <td>mugello</td>\n",
       "      <td>Autodromo Internazionale del Mugello</td>\n",
       "      <td>Mugello</td>\n",
       "      <td>Italy</td>\n",
       "      <td>43.9975</td>\n",
       "      <td>11.3719</td>\n",
       "      <td>255</td>\n",
       "      <td>http://en.wikipedia.org/wiki/Mugello_Circuit</td>\n",
       "    </tr>\n",
       "    <tr>\n",
       "      <th>74</th>\n",
       "      <td>77</td>\n",
       "      <td>jeddah</td>\n",
       "      <td>Jeddah Corniche Circuit</td>\n",
       "      <td>Jeddah</td>\n",
       "      <td>Saudi Arabia</td>\n",
       "      <td>21.6319</td>\n",
       "      <td>39.1044</td>\n",
       "      <td>15</td>\n",
       "      <td>http://en.wikipedia.org/wiki/Jeddah_Street_Cir...</td>\n",
       "    </tr>\n",
       "    <tr>\n",
       "      <th>75</th>\n",
       "      <td>78</td>\n",
       "      <td>losail</td>\n",
       "      <td>Losail International Circuit</td>\n",
       "      <td>Al Daayen</td>\n",
       "      <td>Qatar</td>\n",
       "      <td>25.4900</td>\n",
       "      <td>51.4542</td>\n",
       "      <td>12</td>\n",
       "      <td>http://en.wikipedia.org/wiki/Losail_Internatio...</td>\n",
       "    </tr>\n",
       "    <tr>\n",
       "      <th>76</th>\n",
       "      <td>79</td>\n",
       "      <td>miami</td>\n",
       "      <td>Miami International Autodrome</td>\n",
       "      <td>Miami</td>\n",
       "      <td>USA</td>\n",
       "      <td>25.9581</td>\n",
       "      <td>-80.2389</td>\n",
       "      <td>0</td>\n",
       "      <td>http://en.wikipedia.org/wiki/Miami_Internation...</td>\n",
       "    </tr>\n",
       "  </tbody>\n",
       "</table>\n",
       "</div>"
      ],
      "text/plain": [
       "    circuitId circuitRef                                  name   location  \\\n",
       "72         75   portimao    Autódromo Internacional do Algarve   Portimão   \n",
       "73         76    mugello  Autodromo Internazionale del Mugello    Mugello   \n",
       "74         77     jeddah               Jeddah Corniche Circuit     Jeddah   \n",
       "75         78     losail          Losail International Circuit  Al Daayen   \n",
       "76         79      miami         Miami International Autodrome      Miami   \n",
       "\n",
       "         country      lat      lng  alt  \\\n",
       "72      Portugal  37.2270  -8.6267  108   \n",
       "73         Italy  43.9975  11.3719  255   \n",
       "74  Saudi Arabia  21.6319  39.1044   15   \n",
       "75         Qatar  25.4900  51.4542   12   \n",
       "76           USA  25.9581 -80.2389    0   \n",
       "\n",
       "                                                  url  \n",
       "72  http://en.wikipedia.org/wiki/Algarve_Internati...  \n",
       "73       http://en.wikipedia.org/wiki/Mugello_Circuit  \n",
       "74  http://en.wikipedia.org/wiki/Jeddah_Street_Cir...  \n",
       "75  http://en.wikipedia.org/wiki/Losail_Internatio...  \n",
       "76  http://en.wikipedia.org/wiki/Miami_Internation...  "
      ]
     },
     "execution_count": 4,
     "metadata": {},
     "output_type": "execute_result"
    }
   ],
   "source": [
    "df.tail()"
   ]
  },
  {
   "cell_type": "markdown",
   "id": "d195d697-e232-4eae-8588-fdc8bc45a74b",
   "metadata": {},
   "source": [
    "\n",
    "# Get a concise summary of the DataFrame, including data types and non-null valu\n"
   ]
  },
  {
   "cell_type": "code",
   "execution_count": 11,
   "id": "b20cabbf-f925-46d0-887d-44b8a85d728c",
   "metadata": {},
   "outputs": [
    {
     "name": "stdout",
     "output_type": "stream",
     "text": [
      "--Data Info & Health Check--\n",
      "<class 'pandas.core.frame.DataFrame'>\n",
      "RangeIndex: 77 entries, 0 to 76\n",
      "Data columns (total 9 columns):\n",
      " #   Column      Non-Null Count  Dtype  \n",
      "---  ------      --------------  -----  \n",
      " 0   circuitId   77 non-null     int64  \n",
      " 1   circuitRef  77 non-null     object \n",
      " 2   name        77 non-null     object \n",
      " 3   location    77 non-null     object \n",
      " 4   country     77 non-null     object \n",
      " 5   lat         77 non-null     float64\n",
      " 6   lng         77 non-null     float64\n",
      " 7   alt         77 non-null     int64  \n",
      " 8   url         77 non-null     object \n",
      "dtypes: float64(2), int64(2), object(5)\n",
      "memory usage: 5.5+ KB\n",
      "\n",
      "========================================\n",
      "\n"
     ]
    }
   ],
   "source": [
    "print(\"--Data Info & Health Check--\")\n",
    "df.info()\n",
    "print(\"\\n\" + \"=\"*40 + \"\\n\")"
   ]
  },
  {
   "cell_type": "markdown",
   "id": "b6ca62b7-dcb1-4870-817e-c45f2c6b2211",
   "metadata": {},
   "source": [
    "# --- Step 2: Geographic Analysis - Which countries have the most circuits? ---"
   ]
  },
  {
   "cell_type": "markdown",
   "id": "9eedeb2c-b81b-42ec-8159-0481fb5612b8",
   "metadata": {},
   "source": [
    "#Use value_counts() to count the number of circuits in each country"
   ]
  },
  {
   "cell_type": "code",
   "execution_count": 14,
   "id": "08e0583a-447b-42b7-ad9f-46a09f216b7e",
   "metadata": {},
   "outputs": [
    {
     "name": "stdout",
     "output_type": "stream",
     "text": [
      "--Top 10 Countries with the Most F1 Circuits --\n",
      "country\n",
      "USA         11\n",
      "France       7\n",
      "Spain        6\n",
      "Italy        4\n",
      "Portugal     4\n",
      "UK           4\n",
      "Germany      3\n",
      "Belgium      3\n",
      "Canada       3\n",
      "Japan        3\n",
      "Name: count, dtype: int64\n",
      "\n",
      "========================================\n",
      "\n"
     ]
    }
   ],
   "source": [
    "country_counts = df['country'].value_counts().head(10)\n",
    "print(\"--Top 10 Countries with the Most F1 Circuits --\")\n",
    "print(country_counts)\n",
    "print(\"\\n\" + \"=\"*40 + \"\\n\")"
   ]
  },
  {
   "cell_type": "markdown",
   "id": "e93f46ed-2a3c-45bf-85f6-28f328d9035a",
   "metadata": {},
   "source": [
    "# Create a bar chart using pandas' built-in .plot() method\n",
    "# This returns a matplotlib axes object, which we can customize."
   ]
  },
  {
   "cell_type": "code",
   "execution_count": 15,
   "id": "e86f7388-c54f-4d6b-bc92-c9ce2573b969",
   "metadata": {},
   "outputs": [
    {
     "data": {
      "image/png": "[encoded data removed]",
      "text/plain": [
       "<Figure size 1200x700 with 1 Axes>"
      ]
     },
     "metadata": {},
     "output_type": "display_data"
    }
   ],
   "source": [
    "ax1 = country_counts.plot(kind='bar',\n",
    "                          figsize=(12, 7),\n",
    "                          title='Top 10 Countries by Number of F1 Circuits',\n",
    "                          xlabel='Country',\n",
    "                          ylabel='Number of Circuits',\n",
    "                          rot=45) # rot is for rotation\n",
    "ax1.get_figure().savefig('country_counts_chart.png', bbox_inches='tight')"
   ]
  },
  {
   "cell_type": "markdown",
   "id": "b3ee955c-d268-4c26-92dc-9067ab46dbdd",
   "metadata": {},
   "source": [
    "# --- Step 3: Altitude Analysis - Finding the Extremes ---"
   ]
  },
  {
   "cell_type": "markdown",
   "id": "c17476d0-20ef-4e02-9c91-0dd92a51965d",
   "metadata": {},
   "source": [
    "\n",
    "# First, handle potential missing values in the 'alt' column\n",
    "# We will fill any missing altitude with 0 for this analysis"
   ]
  },
  {
   "cell_type": "code",
   "execution_count": 17,
   "id": "c1e3a32a-57ce-47c0-aac4-0f1fbb30e766",
   "metadata": {},
   "outputs": [
    {
     "name": "stderr",
     "output_type": "stream",
     "text": [
      "C:\\Users\\Sakshi\\AppData\\Local\\Temp\\ipykernel_7892\\3071636510.py:1: FutureWarning: A value is trying to be set on a copy of a DataFrame or Series through chained assignment using an inplace method.\n",
      "The behavior will change in pandas 3.0. This inplace method will never work because the intermediate object on which we are setting values always behaves as a copy.\n",
      "\n",
      "For example, when doing 'df[col].method(value, inplace=True)', try using 'df.method({col: value}, inplace=True)' or df[col] = df[col].method(value) instead, to perform the operation inplace on the original object.\n",
      "\n",
      "\n",
      "  df['alt'].fillna(0, inplace=True)\n"
     ]
    }
   ],
   "source": [
    "df['alt'].fillna(0, inplace=True)"
   ]
  },
  {
   "cell_type": "markdown",
   "id": "034f79f5-9fb5-4450-b81a-6108a66c8a7d",
   "metadata": {},
   "source": [
    "# Find the 5 highest altitude circuits"
   ]
  },
  {
   "cell_type": "code",
   "execution_count": 18,
   "id": "88065930-4236-4724-b91b-a5846372b84b",
   "metadata": {},
   "outputs": [
    {
     "name": "stdout",
     "output_type": "stream",
     "text": [
      "--- 5 Highest Altitude F1 Circuits ---\n",
      "                                     name       country   alt\n",
      "31           Autódromo Hermanos Rodríguez        Mexico  2227\n",
      "29                                Kyalami  South Africa  1460\n",
      "35  Autódromo Internacional Nelson Piquet        Brazil  1126\n",
      "50                        Charade Circuit        France   790\n",
      "17             Autódromo José Carlos Pace        Brazil   785\n",
      "\n",
      "========================================\n",
      "\n"
     ]
    }
   ],
   "source": [
    "highest_circuits = df.sort_values(by='alt', ascending=False).head(5)\n",
    "print(\"--- 5 Highest Altitude F1 Circuits ---\")\n",
    "# Displaying specific columns for clarity\n",
    "print(highest_circuits[['name', 'country', 'alt']])\n",
    "print(\"\\n\" + \"=\"*40 + \"\\n\")"
   ]
  },
  {
   "cell_type": "markdown",
   "id": "1a404c74-b761-4b05-8dad-f09083d58521",
   "metadata": {},
   "source": [
    "# Find the 5 lowest altitude circuits"
   ]
  },
  {
   "cell_type": "code",
   "execution_count": 19,
   "id": "0bb0df49-8b53-4205-8b6d-f5402e1665b9",
   "metadata": {},
   "outputs": [
    {
     "name": "stdout",
     "output_type": "stream",
     "text": [
      "--- 5 Lowest Altitude F1 Circuits ---\n",
      "                             name     country  alt\n",
      "71              Baku City Circuit  Azerbaijan   -7\n",
      "34   Korean International Circuit       Korea    0\n",
      "76  Miami International Autodrome         USA    0\n",
      "70                 Sochi Autodrom      Russia    2\n",
      "23             Yas Marina Circuit         UAE    3\n",
      "\n",
      "========================================\n",
      "\n"
     ]
    }
   ],
   "source": [
    "lowest_circuits = df.sort_values(by='alt', ascending=True).head(5)\n",
    "print(\"--- 5 Lowest Altitude F1 Circuits ---\")\n",
    "print(lowest_circuits[['name', 'country', 'alt']])\n",
    "print(\"\\n\" + \"=\"*40 + \"\\n\")"
   ]
  },
  {
   "cell_type": "markdown",
   "id": "fb53a4f6-9a46-42e0-9cd2-1661378422b7",
   "metadata": {},
   "source": [
    "# --- Step 4: Deeper Insights - Average Altitude by Country ---"
   ]
  },
  {
   "cell_type": "markdown",
   "id": "ae8f4c7d-355f-4a4d-bd6f-e5689a06172b",
   "metadata": {},
   "source": [
    "\n",
    "# Group the data by country and calculate the average altitude"
   ]
  },
  {
   "cell_type": "code",
   "execution_count": 20,
   "id": "e0eff77a-20a3-4341-9cd7-7aeaa63e2a67",
   "metadata": {},
   "outputs": [
    {
     "name": "stdout",
     "output_type": "stream",
     "text": [
      "--- Top 10 Countries by Average Circuit Altitude (in meters) ---\n",
      "country\n",
      "Mexico           2227.00\n",
      "Brazil            955.50\n",
      "South Africa      737.50\n",
      "Austria           677.00\n",
      "United States     642.00\n",
      "Switzerland       551.00\n",
      "France            310.00\n",
      "Japan             298.00\n",
      "Hungary           264.00\n",
      "Germany           244.67\n",
      "Name: alt, dtype: float64\n",
      "\n",
      "========================================\n",
      "\n"
     ]
    }
   ],
   "source": [
    "avg_altitude_by_country = df.groupby('country')['alt'].mean().sort_values(ascending=False).head(10)\n",
    "\n",
    "print(\"--- Top 10 Countries by Average Circuit Altitude (in meters) ---\")\n",
    "print(avg_altitude_by_country.round(2)) # Rounding to 2 decimal places\n",
    "print(\"\\n\" + \"=\"*40 + \"\\n\")"
   ]
  },
  {
   "cell_type": "markdown",
   "id": "633af556-d0a8-4ed4-b78f-3ec99b086efc",
   "metadata": {},
   "source": [
    "# Create another bar chart using the .plot() method"
   ]
  },
  {
   "cell_type": "code",
   "execution_count": 21,
   "id": "0c92ee4f-bebe-45f6-855c-756fece27595",
   "metadata": {},
   "outputs": [
    {
     "data": {
      "image/png": "[encoded data removed]",
      "text/plain": [
       "<Figure size 1200x700 with 1 Axes>"
      ]
     },
     "metadata": {},
     "output_type": "display_data"
    }
   ],
   "source": [
    "ax2 = avg_altitude_by_country.plot(kind='bar',\n",
    "                                   figsize=(12, 7),\n",
    "                                   title='Top 10 Countries by Average Circuit Altitude',\n",
    "                                   xlabel='Country',\n",
    "                                   ylabel='Average Altitude (meters)',\n",
    "                                   color='salmon', # Adding a different color\n",
    "                                   rot=45)\n",
    "ax2.get_figure().savefig('avg_altitude_chart.png', bbox_inches='tight')"
   ]
  },
  {
   "cell_type": "code",
   "execution_count": null,
   "id": "b6da13be-fefc-43cb-a8c8-197f17028f67",
   "metadata": {},
   "outputs": [],
   "source": []
  }
 ],
 "metadata": {
  "kernelspec": {
   "display_name": "Python [conda env:base] *",
   "language": "python",
   "name": "conda-base-py"
  },
  "language_info": {
   "codemirror_mode": {
    "name": "ipython",
    "version": 3
   },
   "file_extension": ".py",
   "mimetype": "text/x-python",
   "name": "python",
   "nbconvert_exporter": "python",
   "pygments_lexer": "ipython3",
   "version": "3.13.5"
  }
 },
 "nbformat": 4,
 "nbformat_minor": 5
}
